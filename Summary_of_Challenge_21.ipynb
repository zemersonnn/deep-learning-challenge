{
  "nbformat": 4,
  "nbformat_minor": 0,
  "metadata": {
    "colab": {
      "provenance": [],
      "authorship_tag": "ABX9TyMpNZFIDiDJvPu+7BNPJET+",
      "include_colab_link": true
    },
    "kernelspec": {
      "name": "python3",
      "display_name": "Python 3"
    },
    "language_info": {
      "name": "python"
    }
  },
  "cells": [
    {
      "cell_type": "markdown",
      "metadata": {
        "id": "view-in-github",
        "colab_type": "text"
      },
      "source": [
        "<a href=\"https://colab.research.google.com/github/zemersonnn/deep-learning-challenge/blob/main/Summary_of_Challenge_21.ipynb\" target=\"_parent\"><img src=\"https://colab.research.google.com/assets/colab-badge.svg\" alt=\"Open In Colab\"/></a>"
      ]
    },
    {
      "cell_type": "code",
      "execution_count": null,
      "metadata": {
        "id": "-meOYRzykEf9"
      },
      "outputs": [],
      "source": [
        "* Overview of the analysis: The nonprofit foundation Alphabet Soup wants a tool that can help it select the applicants for funding with the best chance of success in their ventures. Using knowledge of machine learning and neural networks, the features in the provided dataset create a binary classifier that can predict whether applicants will be successful if funded by Alphabet Soup.\n",
        "\n",
        "* Data Preprocessing\n",
        "* What variable(s) are the target(s) for your model? Application type, classification (government organization classification), and was the money used effectively.\n",
        "* What variable(s) are the features for your model? \"IS_SUCCESSFUL\", \"CLASSIFICATON\", \"APPLICATION_TYPE\"\n",
        "* What variable(s) should be removed from the input data because they are neither targets nor features? EIN and NAME columns can be dropped.\n",
        "\n",
        "* Compiling, Training, and Evaluating the Model\n",
        "* How many neurons, layers, and activation functions did you select for your neural network model, and why? First model- Neurons used; 80, 30, 1. The model consists of two hidden layers and one output layer. Second model- Neurons used: 60, 20, 1. The model consists of two hidden layers and one output layer. Third model- Neurons used; 300, 200, 1. The model consists of two hidden layers and one output layer.\n",
        "* Were you able to achieve the target model performance? First model- There was an accuracy of 73%. This is slightly below the target model performance. Second model- 73% accuracy and 55% loss.\n",
        "* What steps did you take in your attempts to increase model performance? Adding neurons and layers to impact the models performance. Third model-\n",
        "\n",
        "* Summary: The accuracy is at 73% and loss of 56% with the trained model used. The epoch value is set at 200 and takes approximently 8 minutes and 35 seconds to run. The value 200 was chosen so there are enough complete passes through the entire training dataset through the neural networks learning algorithm. Second model- Switched to epochs set at 100 and got the same accuracy percentage and a loss of 55%. The third model did not have a change on the accuracy and the loss went up to 58%."
      ]
    }
  ]
}